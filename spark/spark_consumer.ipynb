{
 "cells": [
  {
   "cell_type": "code",
   "execution_count": 9,
   "id": "3fff5bad-685c-4ae9-9502-94c6b08d43db",
   "metadata": {},
   "outputs": [],
   "source": [
    "from pyspark.sql import SparkSession\n",
    "from pyspark.sql.functions import expr, from_json, col\n",
    "from pyspark.sql.types import StructType, StructField, StringType, IntegerType, FloatType"
   ]
  },
  {
   "cell_type": "code",
   "execution_count": 2,
   "id": "b5bc38bb-7af9-4c9b-b2d5-dcaf4edfbc11",
   "metadata": {},
   "outputs": [],
   "source": [
    "spark = (\n",
    "    SparkSession\n",
    "    .builder\n",
    "    .appName(\"smartHome\")\n",
    "    .config(\"spark.jars.packages\", \"org.apache.spark:spark-sql-kafka-0-10_2.12:3.3.0,mysql:mysql-connector-java:8.0.33\")\n",
    "    .getOrCreate()\n",
    ")"
   ]
  },
  {
   "cell_type": "code",
   "execution_count": 3,
   "id": "192a87c2-55e4-4d6e-b24d-8fc683a24364",
   "metadata": {},
   "outputs": [],
   "source": [
    "kafka_topic = \"smart-home\"\n",
    "kafka_bootstrap_servers = \"ed-kafka:29092\""
   ]
  },
  {
   "cell_type": "code",
   "execution_count": 4,
   "id": "f1768d58-c686-4963-bf69-7d806a4c6c5d",
   "metadata": {},
   "outputs": [],
   "source": [
    "df_kafka = (\n",
    "    spark\n",
    "    .readStream\n",
    "    .format(\"kafka\")\n",
    "    .option(\"kafka.bootstrap.servers\", kafka_bootstrap_servers)\n",
    "    .option(\"subscribe\", kafka_topic)\n",
    "    .option(\"startingOffsets\", \"earliest\")\n",
    "    .load()\n",
    ")"
   ]
  },
  {
   "cell_type": "code",
   "execution_count": 6,
   "id": "ea7a3555-a569-4600-b4a8-8e56a6d56fa8",
   "metadata": {},
   "outputs": [
    {
     "data": {
      "text/plain": [
       "DataFrame[key: binary, value: binary, topic: string, partition: int, offset: bigint, timestamp: timestamp, timestampType: int]"
      ]
     },
     "execution_count": 6,
     "metadata": {},
     "output_type": "execute_result"
    }
   ],
   "source": [
    "df_kafka"
   ]
  },
  {
   "cell_type": "code",
   "execution_count": 12,
   "id": "925915d1-f86b-40ce-a89b-1cdf57628254",
   "metadata": {},
   "outputs": [],
   "source": [
    "from pyspark.sql.types import StructType, StructField, StringType, IntegerType, FloatType\n",
    "schema = StructType([\n",
    "    StructField(\"use\", FloatType(), True),\n",
    "    StructField(\"gen\", FloatType(), True),\n",
    "    StructField(\"House overall\", FloatType(), True),\n",
    "    StructField(\"Dishwasher\", FloatType(), True),\n",
    "    StructField(\"Furnace 1\", FloatType(), True),\n",
    "    StructField(\"Furnace 2\", FloatType(), True),\n",
    "    StructField(\"Home office\", FloatType(), True),\n",
    "    StructField(\"Fridge\", FloatType(), True),\n",
    "    StructField(\"Wine cellar\", FloatType(), True),\n",
    "    StructField(\"Garage door\", FloatType(), True),\n",
    "    StructField(\"Kitchen 12\", FloatType(), True),\n",
    "    StructField(\"Kitchen 14\", FloatType(), True),\n",
    "    StructField(\"Kitchen 38\", FloatType(), True),\n",
    "\n",
    "    StructField(\"Barn\", FloatType(), True),\n",
    "    StructField(\"Well\", FloatType(), True),\n",
    "    StructField(\"Microwave\", FloatType(), True),\n",
    "    StructField(\"Living room\", FloatType(), True),\n",
    "    StructField(\"Solar\", FloatType(), True)\n",
    "])"
   ]
  },
  {
   "cell_type": "code",
   "execution_count": 13,
   "id": "55f501f0-0c5d-46cf-8006-9bdfb3a0022d",
   "metadata": {},
   "outputs": [],
   "source": [
    "df_value = df_kafka.selectExpr(\"CAST(value AS STRING) AS json_data\")\n",
    "df_parsed = df_value.select(from_json(col(\"json_data\"), schema).alias(\"parsed_data\"))\n",
    "df_final = df_parsed.select(\"parsed_data.*\")"
   ]
  },
  {
   "cell_type": "code",
   "execution_count": 14,
   "id": "9630d221-bb8b-46d4-bcec-0bf389816852",
   "metadata": {},
   "outputs": [
    {
     "data": {
      "text/plain": [
       "DataFrame[use: float, gen: float, House overall: float, Dishwasher: float, Furnace 1: float, Furnace 2: float, Home office: float, Fridge: float, Wine cellar: float, Garage door: float, Kitchen 12: float, Kitchen 14: float, Kitchen 38: float, Barn: float, Well: float, Microwave: float, Living room: float, Solar: float]"
      ]
     },
     "execution_count": 14,
     "metadata": {},
     "output_type": "execute_result"
    }
   ],
   "source": [
    "df_final"
   ]
  },
  {
   "cell_type": "code",
   "execution_count": null,
   "id": "dec52e38-bd30-4478-aff0-a10e5d80e1c0",
   "metadata": {},
   "outputs": [],
   "source": [
    "df_final.take(100, truncate=False)"
   ]
  },
  {
   "cell_type": "code",
   "execution_count": null,
   "id": "91df3ace-a9a7-4ae8-be4c-954c64849e53",
   "metadata": {},
   "outputs": [],
   "source": []
  }
 ],
 "metadata": {
  "kernelspec": {
   "display_name": "Python 3 (ipykernel)",
   "language": "python",
   "name": "python3"
  },
  "language_info": {
   "codemirror_mode": {
    "name": "ipython",
    "version": 3
   },
   "file_extension": ".py",
   "mimetype": "text/x-python",
   "name": "python",
   "nbconvert_exporter": "python",
   "pygments_lexer": "ipython3",
   "version": "3.10.6"
  }
 },
 "nbformat": 4,
 "nbformat_minor": 5
}
